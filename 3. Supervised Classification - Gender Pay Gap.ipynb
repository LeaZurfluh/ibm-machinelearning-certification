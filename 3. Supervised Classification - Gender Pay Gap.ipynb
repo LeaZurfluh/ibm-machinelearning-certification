{
 "cells": [
  {
   "cell_type": "markdown",
   "metadata": {},
   "source": [
    "# COURSERA IBM MACHINE LEARNING CERTIFICATION\n",
    "## Léa Zurfluh - Mar 2021\n",
    "### End of module project: Supervised Learning - Classification\n",
    "\n",
    "Aim of project is to train a few classification models on a chosen dataset and present insights to senior audience.\n",
    "\n",
    "Data set chosen: Gender Pay Gap.\n",
    "Same data set as the one I chose for the Linear Regression project, available [here](https://github.com/LeaZurfluh/ibm-ml-linear-regression). Initial Data Cleaning, Feature Engineering and Exploratory Data Analysis have been performed in that Linear Regression project and will not be repeated in this Jupyter notebook.\n",
    "\n",
    "\n",
    "## 1. Brief description of the data set and a summary of its attributes\n",
    "\n",
    "This Gender Pay Gap data set has been published by Glassdoor and is available [here](https://www.glassdoor.com/research/how-to-analyze-gender-pay-gap-employers-guide/#).\n",
    "This data set exposes pay and bonus for some characteristics, including gender (see full list of characteristics below). This information comes from a salary survey done in 2019 in the U.S.\n",
    "\n",
    "1000 rows.\n",
    "\n",
    "|   |Column attribute |Type  |Comment |\n",
    "| - | ------- | ------------ | ---- |\n",
    "| 0\t| JobTitle  | object |Ex: Software Engineer  |\n",
    "| 1\t| Gender  | object  |Binary: Male or Female  |\n",
    "| 2\t| Age  | int64  | From 18 to 65  |\n",
    "| 3\t| PerfEval  | int64  |How the employee performs out of 5  |\n",
    "| 4\t| Education  | object  |Highest diploma  |\n",
    "| 5\t| Dept  | object  |Department. Ex: Sales  |\n",
    "| 6\t| Seniority  | int64  |Level of seniority of employee out of 5  |\n",
    "| 7\t| BasePay  | int64  |Annual base salary in USD  |\n",
    "| 8\t| Bonus  | int64  |Annual bonus in USD  |\n",
    "\n",
    "Let's try to predict Gender with all the other available features.\n",
    "\n",
    "\n",
    "## 2. Data exploration\n",
    "### I. Data cleaning / Feature engineering / Exploratory Data Analysis\n",
    "See [Linear Regression project](https://github.com/LeaZurfluh/ibm-ml-linear-regression).\n",
    "\n",
    "### II. Classification models to predict gender\n",
    "##### II.a. K-Nearest Neighbours with hyperparameter tuning\n",
    "##### II.b. Random Forest classification\n",
    "##### II.c. AdaBoost\n",
    "##### II.d. Model comparison\n",
    "\n",
    "### III. Conclusion"
   ]
  },
  {
   "cell_type": "markdown",
   "metadata": {},
   "source": [
    "## <font color = 'blue'> 1. Get the data </font>"
   ]
  },
  {
   "cell_type": "code",
   "execution_count": 62,
   "metadata": {},
   "outputs": [],
   "source": [
    "### IMPORTS ###\n",
    "import pandas as pd\n",
    "import numpy as np\n",
    "import math\n",
    "# Plotting\n",
    "%matplotlib inline\n",
    "import matplotlib.pyplot as plt\n",
    "import seaborn as sns\n",
    "# Preprocessing & metrics\n",
    "from sklearn.model_selection import train_test_split\n",
    "from sklearn.preprocessing import MinMaxScaler\n",
    "from sklearn.metrics import plot_confusion_matrix\n",
    "from sklearn.metrics import confusion_matrix, accuracy_score, precision_score, recall_score\n",
    "from sklearn.metrics import classification_report, f1_score, roc_auc_score, roc_curve, precision_recall_curve\n",
    "# K-Nearest Neighbours\n",
    "from sklearn.neighbors import KNeighborsClassifier\n",
    "# Random Forests\n",
    "from sklearn.ensemble import RandomForestClassifier\n",
    "# AdaBoost\n",
    "from sklearn.model_selection import GridSearchCV\n",
    "from sklearn.ensemble import AdaBoostClassifier\n",
    "from sklearn.tree import DecisionTreeClassifier\n",
    "\n",
    "### VARIABLES ###\n",
    "FILE = 'Glassdoor Gender Pay Gap.csv'"
   ]
  },
  {
   "cell_type": "code",
   "execution_count": 2,
   "metadata": {
    "scrolled": false
   },
   "outputs": [
    {
     "data": {
      "text/html": [
       "<div>\n",
       "<style scoped>\n",
       "    .dataframe tbody tr th:only-of-type {\n",
       "        vertical-align: middle;\n",
       "    }\n",
       "\n",
       "    .dataframe tbody tr th {\n",
       "        vertical-align: top;\n",
       "    }\n",
       "\n",
       "    .dataframe thead th {\n",
       "        text-align: right;\n",
       "    }\n",
       "</style>\n",
       "<table border=\"1\" class=\"dataframe\">\n",
       "  <thead>\n",
       "    <tr style=\"text-align: right;\">\n",
       "      <th></th>\n",
       "      <th>JobTitle</th>\n",
       "      <th>Gender</th>\n",
       "      <th>Age</th>\n",
       "      <th>PerfEval</th>\n",
       "      <th>Education</th>\n",
       "      <th>Dept</th>\n",
       "      <th>Seniority</th>\n",
       "      <th>BasePay</th>\n",
       "      <th>Bonus</th>\n",
       "    </tr>\n",
       "  </thead>\n",
       "  <tbody>\n",
       "    <tr>\n",
       "      <th>0</th>\n",
       "      <td>Graphic Designer</td>\n",
       "      <td>Female</td>\n",
       "      <td>18</td>\n",
       "      <td>5</td>\n",
       "      <td>College</td>\n",
       "      <td>Operations</td>\n",
       "      <td>2</td>\n",
       "      <td>42363</td>\n",
       "      <td>9938</td>\n",
       "    </tr>\n",
       "    <tr>\n",
       "      <th>1</th>\n",
       "      <td>Software Engineer</td>\n",
       "      <td>Male</td>\n",
       "      <td>21</td>\n",
       "      <td>5</td>\n",
       "      <td>College</td>\n",
       "      <td>Management</td>\n",
       "      <td>5</td>\n",
       "      <td>108476</td>\n",
       "      <td>11128</td>\n",
       "    </tr>\n",
       "    <tr>\n",
       "      <th>2</th>\n",
       "      <td>Warehouse Associate</td>\n",
       "      <td>Female</td>\n",
       "      <td>19</td>\n",
       "      <td>4</td>\n",
       "      <td>PhD</td>\n",
       "      <td>Administration</td>\n",
       "      <td>5</td>\n",
       "      <td>90208</td>\n",
       "      <td>9268</td>\n",
       "    </tr>\n",
       "    <tr>\n",
       "      <th>3</th>\n",
       "      <td>Software Engineer</td>\n",
       "      <td>Male</td>\n",
       "      <td>20</td>\n",
       "      <td>5</td>\n",
       "      <td>Masters</td>\n",
       "      <td>Sales</td>\n",
       "      <td>4</td>\n",
       "      <td>108080</td>\n",
       "      <td>10154</td>\n",
       "    </tr>\n",
       "    <tr>\n",
       "      <th>4</th>\n",
       "      <td>Graphic Designer</td>\n",
       "      <td>Male</td>\n",
       "      <td>26</td>\n",
       "      <td>5</td>\n",
       "      <td>Masters</td>\n",
       "      <td>Engineering</td>\n",
       "      <td>5</td>\n",
       "      <td>99464</td>\n",
       "      <td>9319</td>\n",
       "    </tr>\n",
       "  </tbody>\n",
       "</table>\n",
       "</div>"
      ],
      "text/plain": [
       "              JobTitle  Gender  Age  PerfEval Education            Dept  \\\n",
       "0     Graphic Designer  Female   18         5   College      Operations   \n",
       "1    Software Engineer    Male   21         5   College      Management   \n",
       "2  Warehouse Associate  Female   19         4       PhD  Administration   \n",
       "3    Software Engineer    Male   20         5   Masters           Sales   \n",
       "4     Graphic Designer    Male   26         5   Masters     Engineering   \n",
       "\n",
       "   Seniority  BasePay  Bonus  \n",
       "0          2    42363   9938  \n",
       "1          5   108476  11128  \n",
       "2          5    90208   9268  \n",
       "3          4   108080  10154  \n",
       "4          5    99464   9319  "
      ]
     },
     "execution_count": 2,
     "metadata": {},
     "output_type": "execute_result"
    }
   ],
   "source": [
    "# Store data set in dataframe\n",
    "df = pd.read_csv('data' + FILE)\n",
    "df.head()"
   ]
  },
  {
   "cell_type": "markdown",
   "metadata": {},
   "source": [
    "## <font color = 'blue'> 2. Data Exploration </font>\n",
    "### <font color = 'blue'>II. Classification models to predict gender </font>\n",
    "#### <font color = 'blue'>II.a. K-Nearest Neighbours </font>"
   ]
  },
  {
   "cell_type": "markdown",
   "metadata": {},
   "source": [
    "The KNN algorithm is based on distance, hence we need to scale our features."
   ]
  },
  {
   "cell_type": "code",
   "execution_count": 4,
   "metadata": {},
   "outputs": [
    {
     "data": {
      "text/html": [
       "<div>\n",
       "<style scoped>\n",
       "    .dataframe tbody tr th:only-of-type {\n",
       "        vertical-align: middle;\n",
       "    }\n",
       "\n",
       "    .dataframe tbody tr th {\n",
       "        vertical-align: top;\n",
       "    }\n",
       "\n",
       "    .dataframe thead th {\n",
       "        text-align: right;\n",
       "    }\n",
       "</style>\n",
       "<table border=\"1\" class=\"dataframe\">\n",
       "  <thead>\n",
       "    <tr style=\"text-align: right;\">\n",
       "      <th></th>\n",
       "      <th>Unique Values</th>\n",
       "    </tr>\n",
       "    <tr>\n",
       "      <th>Variable</th>\n",
       "      <th></th>\n",
       "    </tr>\n",
       "  </thead>\n",
       "  <tbody>\n",
       "    <tr>\n",
       "      <th>JobTitle</th>\n",
       "      <td>10</td>\n",
       "    </tr>\n",
       "    <tr>\n",
       "      <th>Gender</th>\n",
       "      <td>2</td>\n",
       "    </tr>\n",
       "    <tr>\n",
       "      <th>Age</th>\n",
       "      <td>48</td>\n",
       "    </tr>\n",
       "    <tr>\n",
       "      <th>PerfEval</th>\n",
       "      <td>5</td>\n",
       "    </tr>\n",
       "    <tr>\n",
       "      <th>Education</th>\n",
       "      <td>4</td>\n",
       "    </tr>\n",
       "    <tr>\n",
       "      <th>Dept</th>\n",
       "      <td>5</td>\n",
       "    </tr>\n",
       "    <tr>\n",
       "      <th>Seniority</th>\n",
       "      <td>5</td>\n",
       "    </tr>\n",
       "    <tr>\n",
       "      <th>BasePay</th>\n",
       "      <td>992</td>\n",
       "    </tr>\n",
       "    <tr>\n",
       "      <th>Bonus</th>\n",
       "      <td>941</td>\n",
       "    </tr>\n",
       "  </tbody>\n",
       "</table>\n",
       "</div>"
      ],
      "text/plain": [
       "           Unique Values\n",
       "Variable                \n",
       "JobTitle              10\n",
       "Gender                 2\n",
       "Age                   48\n",
       "PerfEval               5\n",
       "Education              4\n",
       "Dept                   5\n",
       "Seniority              5\n",
       "BasePay              992\n",
       "Bonus                941"
      ]
     },
     "execution_count": 4,
     "metadata": {},
     "output_type": "execute_result"
    }
   ],
   "source": [
    "# Let's define the type of our variables first.\n",
    "# DataFrame that has the name of the feature and the number of unique values:\n",
    "df_uniques = pd.DataFrame([[i, len(df[i].unique())] for i in df.columns], columns=['Variable', 'Unique Values']).set_index('Variable')\n",
    "df_uniques"
   ]
  },
  {
   "cell_type": "code",
   "execution_count": 5,
   "metadata": {},
   "outputs": [
    {
     "name": "stdout",
     "output_type": "stream",
     "text": [
      "The binary variables are: ['Gender']\n",
      "The ordinal variables are: ['PerfEval', 'Seniority', 'Education', 'Age']\n",
      "The categorical variables are: ['Dept', 'JobTitle']\n",
      "The numeric variables are: ['BasePay', 'Bonus']\n"
     ]
    }
   ],
   "source": [
    "# Let's divide all of our variables in binary / ordinal / categorical / numerical variables so that \n",
    "# it is easier to take care of each category separately.\n",
    "\n",
    "# Binary variables\n",
    "binary_variables = list(df_uniques[df_uniques['Unique Values'] == 2].index)\n",
    "\n",
    "# Ordinal variables\n",
    "ordinal_variables = ['PerfEval', 'Seniority', 'Education', 'Age']\n",
    "\n",
    "# Categorical variables\n",
    "categorical_variables = list(set(list(df_uniques[(10 >= df_uniques['Unique Values']) & (df_uniques['Unique Values'] > 2)].index)) - set(ordinal_variables))\n",
    "\n",
    "# Numerical variables\n",
    "numeric_variables = list(set(df.columns) - set(ordinal_variables) - set(categorical_variables) - set(binary_variables))\n",
    "\n",
    "print('The binary variables are: {}'.format(binary_variables))\n",
    "print('The ordinal variables are: {}'.format(ordinal_variables))\n",
    "print('The categorical variables are: {}'.format(categorical_variables))\n",
    "print('The numeric variables are: {}'.format(numeric_variables))"
   ]
  },
  {
   "cell_type": "code",
   "execution_count": 6,
   "metadata": {},
   "outputs": [
    {
     "data": {
      "image/png": "[encoded data removed]",
      "text/plain": [
       "<Figure size 864x432 with 2 Axes>"
      ]
     },
     "metadata": {},
     "output_type": "display_data"
    }
   ],
   "source": [
    "df[numeric_variables].hist(figsize=(12, 6));"
   ]
  },
  {
   "cell_type": "code",
   "execution_count": 7,
   "metadata": {},
   "outputs": [],
   "source": [
    "from sklearn.preprocessing import LabelBinarizer, LabelEncoder\n",
    "lb, le = LabelBinarizer(), LabelEncoder()"
   ]
  },
  {
   "cell_type": "code",
   "execution_count": 8,
   "metadata": {},
   "outputs": [
    {
     "data": {
      "text/html": [
       "<div>\n",
       "<style scoped>\n",
       "    .dataframe tbody tr th:only-of-type {\n",
       "        vertical-align: middle;\n",
       "    }\n",
       "\n",
       "    .dataframe tbody tr th {\n",
       "        vertical-align: top;\n",
       "    }\n",
       "\n",
       "    .dataframe thead th {\n",
       "        text-align: right;\n",
       "    }\n",
       "</style>\n",
       "<table border=\"1\" class=\"dataframe\">\n",
       "  <thead>\n",
       "    <tr style=\"text-align: right;\">\n",
       "      <th></th>\n",
       "      <th>PerfEval</th>\n",
       "      <th>Seniority</th>\n",
       "      <th>Age</th>\n",
       "    </tr>\n",
       "  </thead>\n",
       "  <tbody>\n",
       "    <tr>\n",
       "      <th>count</th>\n",
       "      <td>1000.0</td>\n",
       "      <td>1000.0</td>\n",
       "      <td>1000.0</td>\n",
       "    </tr>\n",
       "    <tr>\n",
       "      <th>mean</th>\n",
       "      <td>3.0</td>\n",
       "      <td>3.0</td>\n",
       "      <td>41.4</td>\n",
       "    </tr>\n",
       "    <tr>\n",
       "      <th>std</th>\n",
       "      <td>1.4</td>\n",
       "      <td>1.4</td>\n",
       "      <td>14.3</td>\n",
       "    </tr>\n",
       "    <tr>\n",
       "      <th>min</th>\n",
       "      <td>1.0</td>\n",
       "      <td>1.0</td>\n",
       "      <td>18.0</td>\n",
       "    </tr>\n",
       "    <tr>\n",
       "      <th>25%</th>\n",
       "      <td>2.0</td>\n",
       "      <td>2.0</td>\n",
       "      <td>29.0</td>\n",
       "    </tr>\n",
       "    <tr>\n",
       "      <th>50%</th>\n",
       "      <td>3.0</td>\n",
       "      <td>3.0</td>\n",
       "      <td>41.0</td>\n",
       "    </tr>\n",
       "    <tr>\n",
       "      <th>75%</th>\n",
       "      <td>4.0</td>\n",
       "      <td>4.0</td>\n",
       "      <td>54.2</td>\n",
       "    </tr>\n",
       "    <tr>\n",
       "      <th>max</th>\n",
       "      <td>5.0</td>\n",
       "      <td>5.0</td>\n",
       "      <td>65.0</td>\n",
       "    </tr>\n",
       "  </tbody>\n",
       "</table>\n",
       "</div>"
      ],
      "text/plain": [
       "       PerfEval  Seniority     Age\n",
       "count    1000.0     1000.0  1000.0\n",
       "mean        3.0        3.0    41.4\n",
       "std         1.4        1.4    14.3\n",
       "min         1.0        1.0    18.0\n",
       "25%         2.0        2.0    29.0\n",
       "50%         3.0        3.0    41.0\n",
       "75%         4.0        4.0    54.2\n",
       "max         5.0        5.0    65.0"
      ]
     },
     "execution_count": 8,
     "metadata": {},
     "output_type": "execute_result"
    }
   ],
   "source": [
    "round(df[ordinal_variables].describe(),1)"
   ]
  },
  {
   "cell_type": "code",
   "execution_count": 9,
   "metadata": {},
   "outputs": [],
   "source": [
    "# Out of the 4 categorical variables, 3 are already encoded as integers. Only Education is not:\n",
    "edu = {'High School':0, 'College':1, 'Masters':2, 'PhD':3}\n",
    "df.Education = df.Education.map(edu)"
   ]
  },
  {
   "cell_type": "code",
   "execution_count": 10,
   "metadata": {},
   "outputs": [],
   "source": [
    "# Transform Gender\n",
    "for column in binary_variables:\n",
    "    df[column] = lb.fit_transform(df[column])"
   ]
  },
  {
   "cell_type": "code",
   "execution_count": 11,
   "metadata": {},
   "outputs": [
    {
     "data": {
      "text/plain": [
       "array(['Female', 'Male'], dtype='<U6')"
      ]
     },
     "execution_count": 11,
     "metadata": {},
     "output_type": "execute_result"
    }
   ],
   "source": [
    "lb.classes_"
   ]
  },
  {
   "cell_type": "code",
   "execution_count": 12,
   "metadata": {},
   "outputs": [],
   "source": [
    "# Transform categorical variables\n",
    "df = pd.get_dummies(df, columns = categorical_variables, drop_first=True)"
   ]
  },
  {
   "cell_type": "code",
   "execution_count": 13,
   "metadata": {},
   "outputs": [
    {
     "data": {
      "text/html": [
       "<div>\n",
       "<style scoped>\n",
       "    .dataframe tbody tr th:only-of-type {\n",
       "        vertical-align: middle;\n",
       "    }\n",
       "\n",
       "    .dataframe tbody tr th {\n",
       "        vertical-align: top;\n",
       "    }\n",
       "\n",
       "    .dataframe thead th {\n",
       "        text-align: right;\n",
       "    }\n",
       "</style>\n",
       "<table border=\"1\" class=\"dataframe\">\n",
       "  <thead>\n",
       "    <tr style=\"text-align: right;\">\n",
       "      <th></th>\n",
       "      <th>Gender</th>\n",
       "      <th>Age</th>\n",
       "      <th>PerfEval</th>\n",
       "      <th>Education</th>\n",
       "      <th>Seniority</th>\n",
       "      <th>BasePay</th>\n",
       "      <th>Bonus</th>\n",
       "      <th>Dept_Engineering</th>\n",
       "      <th>Dept_Management</th>\n",
       "      <th>Dept_Operations</th>\n",
       "      <th>Dept_Sales</th>\n",
       "      <th>JobTitle_Driver</th>\n",
       "      <th>JobTitle_Financial Analyst</th>\n",
       "      <th>JobTitle_Graphic Designer</th>\n",
       "      <th>JobTitle_IT</th>\n",
       "      <th>JobTitle_Manager</th>\n",
       "      <th>JobTitle_Marketing Associate</th>\n",
       "      <th>JobTitle_Sales Associate</th>\n",
       "      <th>JobTitle_Software Engineer</th>\n",
       "      <th>JobTitle_Warehouse Associate</th>\n",
       "    </tr>\n",
       "  </thead>\n",
       "  <tbody>\n",
       "    <tr>\n",
       "      <th>0</th>\n",
       "      <td>0</td>\n",
       "      <td>18</td>\n",
       "      <td>5</td>\n",
       "      <td>1</td>\n",
       "      <td>2</td>\n",
       "      <td>42363</td>\n",
       "      <td>9938</td>\n",
       "      <td>0</td>\n",
       "      <td>0</td>\n",
       "      <td>1</td>\n",
       "      <td>0</td>\n",
       "      <td>0</td>\n",
       "      <td>0</td>\n",
       "      <td>1</td>\n",
       "      <td>0</td>\n",
       "      <td>0</td>\n",
       "      <td>0</td>\n",
       "      <td>0</td>\n",
       "      <td>0</td>\n",
       "      <td>0</td>\n",
       "    </tr>\n",
       "    <tr>\n",
       "      <th>1</th>\n",
       "      <td>1</td>\n",
       "      <td>21</td>\n",
       "      <td>5</td>\n",
       "      <td>1</td>\n",
       "      <td>5</td>\n",
       "      <td>108476</td>\n",
       "      <td>11128</td>\n",
       "      <td>0</td>\n",
       "      <td>1</td>\n",
       "      <td>0</td>\n",
       "      <td>0</td>\n",
       "      <td>0</td>\n",
       "      <td>0</td>\n",
       "      <td>0</td>\n",
       "      <td>0</td>\n",
       "      <td>0</td>\n",
       "      <td>0</td>\n",
       "      <td>0</td>\n",
       "      <td>1</td>\n",
       "      <td>0</td>\n",
       "    </tr>\n",
       "    <tr>\n",
       "      <th>2</th>\n",
       "      <td>0</td>\n",
       "      <td>19</td>\n",
       "      <td>4</td>\n",
       "      <td>3</td>\n",
       "      <td>5</td>\n",
       "      <td>90208</td>\n",
       "      <td>9268</td>\n",
       "      <td>0</td>\n",
       "      <td>0</td>\n",
       "      <td>0</td>\n",
       "      <td>0</td>\n",
       "      <td>0</td>\n",
       "      <td>0</td>\n",
       "      <td>0</td>\n",
       "      <td>0</td>\n",
       "      <td>0</td>\n",
       "      <td>0</td>\n",
       "      <td>0</td>\n",
       "      <td>0</td>\n",
       "      <td>1</td>\n",
       "    </tr>\n",
       "    <tr>\n",
       "      <th>3</th>\n",
       "      <td>1</td>\n",
       "      <td>20</td>\n",
       "      <td>5</td>\n",
       "      <td>2</td>\n",
       "      <td>4</td>\n",
       "      <td>108080</td>\n",
       "      <td>10154</td>\n",
       "      <td>0</td>\n",
       "      <td>0</td>\n",
       "      <td>0</td>\n",
       "      <td>1</td>\n",
       "      <td>0</td>\n",
       "      <td>0</td>\n",
       "      <td>0</td>\n",
       "      <td>0</td>\n",
       "      <td>0</td>\n",
       "      <td>0</td>\n",
       "      <td>0</td>\n",
       "      <td>1</td>\n",
       "      <td>0</td>\n",
       "    </tr>\n",
       "    <tr>\n",
       "      <th>4</th>\n",
       "      <td>1</td>\n",
       "      <td>26</td>\n",
       "      <td>5</td>\n",
       "      <td>2</td>\n",
       "      <td>5</td>\n",
       "      <td>99464</td>\n",
       "      <td>9319</td>\n",
       "      <td>1</td>\n",
       "      <td>0</td>\n",
       "      <td>0</td>\n",
       "      <td>0</td>\n",
       "      <td>0</td>\n",
       "      <td>0</td>\n",
       "      <td>1</td>\n",
       "      <td>0</td>\n",
       "      <td>0</td>\n",
       "      <td>0</td>\n",
       "      <td>0</td>\n",
       "      <td>0</td>\n",
       "      <td>0</td>\n",
       "    </tr>\n",
       "  </tbody>\n",
       "</table>\n",
       "</div>"
      ],
      "text/plain": [
       "   Gender  Age  PerfEval  Education  Seniority  BasePay  Bonus  \\\n",
       "0       0   18         5          1          2    42363   9938   \n",
       "1       1   21         5          1          5   108476  11128   \n",
       "2       0   19         4          3          5    90208   9268   \n",
       "3       1   20         5          2          4   108080  10154   \n",
       "4       1   26         5          2          5    99464   9319   \n",
       "\n",
       "   Dept_Engineering  Dept_Management  Dept_Operations  Dept_Sales  \\\n",
       "0                 0                0                1           0   \n",
       "1                 0                1                0           0   \n",
       "2                 0                0                0           0   \n",
       "3                 0                0                0           1   \n",
       "4                 1                0                0           0   \n",
       "\n",
       "   JobTitle_Driver  JobTitle_Financial Analyst  JobTitle_Graphic Designer  \\\n",
       "0                0                           0                          1   \n",
       "1                0                           0                          0   \n",
       "2                0                           0                          0   \n",
       "3                0                           0                          0   \n",
       "4                0                           0                          1   \n",
       "\n",
       "   JobTitle_IT  JobTitle_Manager  JobTitle_Marketing Associate  \\\n",
       "0            0                 0                             0   \n",
       "1            0                 0                             0   \n",
       "2            0                 0                             0   \n",
       "3            0                 0                             0   \n",
       "4            0                 0                             0   \n",
       "\n",
       "   JobTitle_Sales Associate  JobTitle_Software Engineer  \\\n",
       "0                         0                           0   \n",
       "1                         0                           1   \n",
       "2                         0                           0   \n",
       "3                         0                           1   \n",
       "4                         0                           0   \n",
       "\n",
       "   JobTitle_Warehouse Associate  \n",
       "0                             0  \n",
       "1                             0  \n",
       "2                             1  \n",
       "3                             0  \n",
       "4                             0  "
      ]
     },
     "execution_count": 13,
     "metadata": {},
     "output_type": "execute_result"
    }
   ],
   "source": [
    "df.head()"
   ]
  },
  {
   "cell_type": "code",
   "execution_count": 14,
   "metadata": {},
   "outputs": [
    {
     "data": {
      "text/html": [
       "<div>\n",
       "<style scoped>\n",
       "    .dataframe tbody tr th:only-of-type {\n",
       "        vertical-align: middle;\n",
       "    }\n",
       "\n",
       "    .dataframe tbody tr th {\n",
       "        vertical-align: top;\n",
       "    }\n",
       "\n",
       "    .dataframe thead th {\n",
       "        text-align: right;\n",
       "    }\n",
       "</style>\n",
       "<table border=\"1\" class=\"dataframe\">\n",
       "  <thead>\n",
       "    <tr style=\"text-align: right;\">\n",
       "      <th></th>\n",
       "      <th>count</th>\n",
       "      <th>mean</th>\n",
       "      <th>std</th>\n",
       "      <th>min</th>\n",
       "      <th>25%</th>\n",
       "      <th>50%</th>\n",
       "      <th>75%</th>\n",
       "      <th>max</th>\n",
       "    </tr>\n",
       "  </thead>\n",
       "  <tbody>\n",
       "    <tr>\n",
       "      <th>Gender</th>\n",
       "      <td>1000.0</td>\n",
       "      <td>0.532</td>\n",
       "      <td>0.499</td>\n",
       "      <td>0.0</td>\n",
       "      <td>0.000</td>\n",
       "      <td>1.000</td>\n",
       "      <td>1.000</td>\n",
       "      <td>1.0</td>\n",
       "    </tr>\n",
       "    <tr>\n",
       "      <th>Age</th>\n",
       "      <td>1000.0</td>\n",
       "      <td>0.498</td>\n",
       "      <td>0.304</td>\n",
       "      <td>0.0</td>\n",
       "      <td>0.234</td>\n",
       "      <td>0.489</td>\n",
       "      <td>0.771</td>\n",
       "      <td>1.0</td>\n",
       "    </tr>\n",
       "    <tr>\n",
       "      <th>PerfEval</th>\n",
       "      <td>1000.0</td>\n",
       "      <td>0.509</td>\n",
       "      <td>0.356</td>\n",
       "      <td>0.0</td>\n",
       "      <td>0.250</td>\n",
       "      <td>0.500</td>\n",
       "      <td>0.750</td>\n",
       "      <td>1.0</td>\n",
       "    </tr>\n",
       "    <tr>\n",
       "      <th>Education</th>\n",
       "      <td>1000.0</td>\n",
       "      <td>0.489</td>\n",
       "      <td>0.374</td>\n",
       "      <td>0.0</td>\n",
       "      <td>0.000</td>\n",
       "      <td>0.333</td>\n",
       "      <td>0.667</td>\n",
       "      <td>1.0</td>\n",
       "    </tr>\n",
       "    <tr>\n",
       "      <th>Seniority</th>\n",
       "      <td>1000.0</td>\n",
       "      <td>0.493</td>\n",
       "      <td>0.349</td>\n",
       "      <td>0.0</td>\n",
       "      <td>0.250</td>\n",
       "      <td>0.500</td>\n",
       "      <td>0.750</td>\n",
       "      <td>1.0</td>\n",
       "    </tr>\n",
       "    <tr>\n",
       "      <th>BasePay</th>\n",
       "      <td>1000.0</td>\n",
       "      <td>0.414</td>\n",
       "      <td>0.174</td>\n",
       "      <td>0.0</td>\n",
       "      <td>0.293</td>\n",
       "      <td>0.406</td>\n",
       "      <td>0.532</td>\n",
       "      <td>1.0</td>\n",
       "    </tr>\n",
       "    <tr>\n",
       "      <th>Bonus</th>\n",
       "      <td>1000.0</td>\n",
       "      <td>0.497</td>\n",
       "      <td>0.209</td>\n",
       "      <td>0.0</td>\n",
       "      <td>0.328</td>\n",
       "      <td>0.501</td>\n",
       "      <td>0.659</td>\n",
       "      <td>1.0</td>\n",
       "    </tr>\n",
       "    <tr>\n",
       "      <th>Dept_Engineering</th>\n",
       "      <td>1000.0</td>\n",
       "      <td>0.192</td>\n",
       "      <td>0.394</td>\n",
       "      <td>0.0</td>\n",
       "      <td>0.000</td>\n",
       "      <td>0.000</td>\n",
       "      <td>0.000</td>\n",
       "      <td>1.0</td>\n",
       "    </tr>\n",
       "    <tr>\n",
       "      <th>Dept_Management</th>\n",
       "      <td>1000.0</td>\n",
       "      <td>0.198</td>\n",
       "      <td>0.399</td>\n",
       "      <td>0.0</td>\n",
       "      <td>0.000</td>\n",
       "      <td>0.000</td>\n",
       "      <td>0.000</td>\n",
       "      <td>1.0</td>\n",
       "    </tr>\n",
       "    <tr>\n",
       "      <th>Dept_Operations</th>\n",
       "      <td>1000.0</td>\n",
       "      <td>0.210</td>\n",
       "      <td>0.408</td>\n",
       "      <td>0.0</td>\n",
       "      <td>0.000</td>\n",
       "      <td>0.000</td>\n",
       "      <td>0.000</td>\n",
       "      <td>1.0</td>\n",
       "    </tr>\n",
       "    <tr>\n",
       "      <th>Dept_Sales</th>\n",
       "      <td>1000.0</td>\n",
       "      <td>0.207</td>\n",
       "      <td>0.405</td>\n",
       "      <td>0.0</td>\n",
       "      <td>0.000</td>\n",
       "      <td>0.000</td>\n",
       "      <td>0.000</td>\n",
       "      <td>1.0</td>\n",
       "    </tr>\n",
       "    <tr>\n",
       "      <th>JobTitle_Driver</th>\n",
       "      <td>1000.0</td>\n",
       "      <td>0.091</td>\n",
       "      <td>0.288</td>\n",
       "      <td>0.0</td>\n",
       "      <td>0.000</td>\n",
       "      <td>0.000</td>\n",
       "      <td>0.000</td>\n",
       "      <td>1.0</td>\n",
       "    </tr>\n",
       "    <tr>\n",
       "      <th>JobTitle_Financial Analyst</th>\n",
       "      <td>1000.0</td>\n",
       "      <td>0.107</td>\n",
       "      <td>0.309</td>\n",
       "      <td>0.0</td>\n",
       "      <td>0.000</td>\n",
       "      <td>0.000</td>\n",
       "      <td>0.000</td>\n",
       "      <td>1.0</td>\n",
       "    </tr>\n",
       "    <tr>\n",
       "      <th>JobTitle_Graphic Designer</th>\n",
       "      <td>1000.0</td>\n",
       "      <td>0.098</td>\n",
       "      <td>0.297</td>\n",
       "      <td>0.0</td>\n",
       "      <td>0.000</td>\n",
       "      <td>0.000</td>\n",
       "      <td>0.000</td>\n",
       "      <td>1.0</td>\n",
       "    </tr>\n",
       "    <tr>\n",
       "      <th>JobTitle_IT</th>\n",
       "      <td>1000.0</td>\n",
       "      <td>0.096</td>\n",
       "      <td>0.295</td>\n",
       "      <td>0.0</td>\n",
       "      <td>0.000</td>\n",
       "      <td>0.000</td>\n",
       "      <td>0.000</td>\n",
       "      <td>1.0</td>\n",
       "    </tr>\n",
       "    <tr>\n",
       "      <th>JobTitle_Manager</th>\n",
       "      <td>1000.0</td>\n",
       "      <td>0.090</td>\n",
       "      <td>0.286</td>\n",
       "      <td>0.0</td>\n",
       "      <td>0.000</td>\n",
       "      <td>0.000</td>\n",
       "      <td>0.000</td>\n",
       "      <td>1.0</td>\n",
       "    </tr>\n",
       "    <tr>\n",
       "      <th>JobTitle_Marketing Associate</th>\n",
       "      <td>1000.0</td>\n",
       "      <td>0.118</td>\n",
       "      <td>0.323</td>\n",
       "      <td>0.0</td>\n",
       "      <td>0.000</td>\n",
       "      <td>0.000</td>\n",
       "      <td>0.000</td>\n",
       "      <td>1.0</td>\n",
       "    </tr>\n",
       "    <tr>\n",
       "      <th>JobTitle_Sales Associate</th>\n",
       "      <td>1000.0</td>\n",
       "      <td>0.094</td>\n",
       "      <td>0.292</td>\n",
       "      <td>0.0</td>\n",
       "      <td>0.000</td>\n",
       "      <td>0.000</td>\n",
       "      <td>0.000</td>\n",
       "      <td>1.0</td>\n",
       "    </tr>\n",
       "    <tr>\n",
       "      <th>JobTitle_Software Engineer</th>\n",
       "      <td>1000.0</td>\n",
       "      <td>0.109</td>\n",
       "      <td>0.312</td>\n",
       "      <td>0.0</td>\n",
       "      <td>0.000</td>\n",
       "      <td>0.000</td>\n",
       "      <td>0.000</td>\n",
       "      <td>1.0</td>\n",
       "    </tr>\n",
       "    <tr>\n",
       "      <th>JobTitle_Warehouse Associate</th>\n",
       "      <td>1000.0</td>\n",
       "      <td>0.090</td>\n",
       "      <td>0.286</td>\n",
       "      <td>0.0</td>\n",
       "      <td>0.000</td>\n",
       "      <td>0.000</td>\n",
       "      <td>0.000</td>\n",
       "      <td>1.0</td>\n",
       "    </tr>\n",
       "  </tbody>\n",
       "</table>\n",
       "</div>"
      ],
      "text/plain": [
       "                               count   mean    std  min    25%    50%    75%  \\\n",
       "Gender                        1000.0  0.532  0.499  0.0  0.000  1.000  1.000   \n",
       "Age                           1000.0  0.498  0.304  0.0  0.234  0.489  0.771   \n",
       "PerfEval                      1000.0  0.509  0.356  0.0  0.250  0.500  0.750   \n",
       "Education                     1000.0  0.489  0.374  0.0  0.000  0.333  0.667   \n",
       "Seniority                     1000.0  0.493  0.349  0.0  0.250  0.500  0.750   \n",
       "BasePay                       1000.0  0.414  0.174  0.0  0.293  0.406  0.532   \n",
       "Bonus                         1000.0  0.497  0.209  0.0  0.328  0.501  0.659   \n",
       "Dept_Engineering              1000.0  0.192  0.394  0.0  0.000  0.000  0.000   \n",
       "Dept_Management               1000.0  0.198  0.399  0.0  0.000  0.000  0.000   \n",
       "Dept_Operations               1000.0  0.210  0.408  0.0  0.000  0.000  0.000   \n",
       "Dept_Sales                    1000.0  0.207  0.405  0.0  0.000  0.000  0.000   \n",
       "JobTitle_Driver               1000.0  0.091  0.288  0.0  0.000  0.000  0.000   \n",
       "JobTitle_Financial Analyst    1000.0  0.107  0.309  0.0  0.000  0.000  0.000   \n",
       "JobTitle_Graphic Designer     1000.0  0.098  0.297  0.0  0.000  0.000  0.000   \n",
       "JobTitle_IT                   1000.0  0.096  0.295  0.0  0.000  0.000  0.000   \n",
       "JobTitle_Manager              1000.0  0.090  0.286  0.0  0.000  0.000  0.000   \n",
       "JobTitle_Marketing Associate  1000.0  0.118  0.323  0.0  0.000  0.000  0.000   \n",
       "JobTitle_Sales Associate      1000.0  0.094  0.292  0.0  0.000  0.000  0.000   \n",
       "JobTitle_Software Engineer    1000.0  0.109  0.312  0.0  0.000  0.000  0.000   \n",
       "JobTitle_Warehouse Associate  1000.0  0.090  0.286  0.0  0.000  0.000  0.000   \n",
       "\n",
       "                              max  \n",
       "Gender                        1.0  \n",
       "Age                           1.0  \n",
       "PerfEval                      1.0  \n",
       "Education                     1.0  \n",
       "Seniority                     1.0  \n",
       "BasePay                       1.0  \n",
       "Bonus                         1.0  \n",
       "Dept_Engineering              1.0  \n",
       "Dept_Management               1.0  \n",
       "Dept_Operations               1.0  \n",
       "Dept_Sales                    1.0  \n",
       "JobTitle_Driver               1.0  \n",
       "JobTitle_Financial Analyst    1.0  \n",
       "JobTitle_Graphic Designer     1.0  \n",
       "JobTitle_IT                   1.0  \n",
       "JobTitle_Manager              1.0  \n",
       "JobTitle_Marketing Associate  1.0  \n",
       "JobTitle_Sales Associate      1.0  \n",
       "JobTitle_Software Engineer    1.0  \n",
       "JobTitle_Warehouse Associate  1.0  "
      ]
     },
     "execution_count": 14,
     "metadata": {},
     "output_type": "execute_result"
    }
   ],
   "source": [
    "mm = MinMaxScaler()\n",
    "for column in [ordinal_variables + numeric_variables]:\n",
    "    df[column] = mm.fit_transform(df[column])\n",
    "\n",
    "round(df.describe().T, 3)"
   ]
  },
  {
   "cell_type": "code",
   "execution_count": 15,
   "metadata": {},
   "outputs": [
    {
     "data": {
      "image/png": "[encoded data removed]",
      "text/plain": [
       "<Figure size 720x576 with 2 Axes>"
      ]
     },
     "metadata": {},
     "output_type": "display_data"
    }
   ],
   "source": [
    "# Now that all variables are encoded and scaled, let's take a look at the correlation matrix\n",
    "fig, ax = plt.subplots(figsize=(10,8)) \n",
    "sns.heatmap(df.corr());"
   ]
  },
  {
   "cell_type": "markdown",
   "metadata": {},
   "source": [
    "Interestingly, Gender is quite negatively correlated with being a Marketing Associate. As 'Female' = 'False' we can conclude that there are more Female Marketing Associates.\n",
    "\n",
    "Similarly, Gender is positively correlated with being a Software Engineer: there are more Male Software Engineers."
   ]
  },
  {
   "cell_type": "markdown",
   "metadata": {},
   "source": [
    "Now let's run a KNN model with hyperparameter tuning in order to find the best K leading to the highest F1 score."
   ]
  },
  {
   "cell_type": "code",
   "execution_count": 63,
   "metadata": {},
   "outputs": [],
   "source": [
    "# Set up X and y variables\n",
    "y, X = df['Gender'], df.drop(columns='Gender')\n",
    "# Split the data into training and test samples\n",
    "X_train_knn, X_test_knn, y_train_knn, y_test_knn = train_test_split(X, y, test_size=0.3, random_state=7879) #K-Nearest Neighbors\n",
    "X_train_rf, X_test_rf, y_train_rf, y_test_rf = train_test_split(X, y, test_size=0.3, random_state=7879) #Random Forests\n",
    "X_train_abc, X_test_abc, y_train_abc, y_test_abc = train_test_split(X, y, test_size=0.3, random_state=7879) #AdaBoost"
   ]
  },
  {
   "cell_type": "code",
   "execution_count": 18,
   "metadata": {},
   "outputs": [],
   "source": [
    "# Hyperparameter tuning - identify the best K\n",
    "max_k = 70\n",
    "f1_scores = list()\n",
    "error_rates = list() # 1-accuracy\n",
    "\n",
    "for k in range(1, max_k):\n",
    "    \n",
    "    knn = KNeighborsClassifier(n_neighbors=k, weights='distance')\n",
    "    knn = knn.fit(X_train_knn, y_train_knn)\n",
    "    \n",
    "    y_pred_knn = knn.predict(X_test_knn)\n",
    "    f1 = f1_score(y_pred_knn, y_test_knn)\n",
    "    f1_scores.append((k, round(f1_score(y_test_knn, y_pred_knn), 4)))\n",
    "    error = 1-round(accuracy_score(y_test_knn, y_pred_knn), 4)\n",
    "    error_rates.append((k, error))\n",
    "    \n",
    "f1_results = pd.DataFrame(f1_scores, columns=['K', 'F1 Score'])\n",
    "error_results = pd.DataFrame(error_rates, columns=['K', 'Error Rate'])"
   ]
  },
  {
   "cell_type": "code",
   "execution_count": 19,
   "metadata": {
    "scrolled": false
   },
   "outputs": [
    {
     "data": {
      "image/png": "[encoded data removed]",
      "text/plain": [
       "<Figure size 864x360 with 2 Axes>"
      ]
     },
     "metadata": {},
     "output_type": "display_data"
    }
   ],
   "source": [
    "# Plotting F1 and Error Rate for each K\n",
    "metrics = [f1_results, error_results]\n",
    "metrics_names = ['F1 Results', 'Error Results']\n",
    "fig, axes = plt.subplots(1, 2,figsize=(12,5))\n",
    "\n",
    "for i, (ax, metric) in enumerate(zip(axes.flatten(), metrics)):\n",
    "    ax.plot(metric.set_index('K'))\n",
    "    ax.set(xlabel='K', ylabel=metrics_names[i])\n",
    "    ax.set_xticks(range(0, max_k+1, 5))\n",
    "    plt.tight_layout();"
   ]
  },
  {
   "cell_type": "code",
   "execution_count": 20,
   "metadata": {},
   "outputs": [
    {
     "name": "stdout",
     "output_type": "stream",
     "text": [
      "The highest F1 is 0.68 for K =59\n",
      "The lowest error is 0.34 for K =8\n"
     ]
    }
   ],
   "source": [
    "# Confirming what we see visually by finding the highest F1 and lowest error:\n",
    "max_f1 = f1_results['F1 Score'].max()\n",
    "best_k_f1 = min(f1_results[f1_results['F1 Score'] == max_f1]['K'])\n",
    "print('The highest F1 is {:.2f} for K ={}'.format(max_f1, best_k_f1))\n",
    "\n",
    "min_error = error_results['Error Rate'].min()\n",
    "best_k_err = min(error_results[error_results['Error Rate'] == min_error]['K'])\n",
    "print('The lowest error is {:.2f} for K ={}'.format(min_error, best_k_err))\n",
    "\n",
    "best_k = best_k_f1"
   ]
  },
  {
   "cell_type": "markdown",
   "metadata": {},
   "source": [
    "Visually, varying K seems to lead to volatile F1 and errors. Let's take K=59 for the next part of our analysis.\n",
    "Now we can output precision and recall to understand how good the classification model is.\n"
   ]
  },
  {
   "cell_type": "code",
   "execution_count": 21,
   "metadata": {},
   "outputs": [
    {
     "name": "stdout",
     "output_type": "stream",
     "text": [
      "              precision    recall  f1-score   support\n",
      "\n",
      "           0       0.64      0.52      0.57       145\n",
      "           1       0.62      0.72      0.66       155\n",
      "\n",
      "    accuracy                           0.62       300\n",
      "   macro avg       0.63      0.62      0.62       300\n",
      "weighted avg       0.63      0.62      0.62       300\n",
      "\n",
      "Accuracy score:  0.62\n",
      "F1 Score:  0.66\n"
     ]
    }
   ],
   "source": [
    "# Estimate KNN model and report outcomes\n",
    "knn = KNeighborsClassifier(n_neighbors=int(best_k))\n",
    "knn = knn.fit(X_train_knn, y_train_knn)\n",
    "y_pred_knn = knn.predict(X_test_knn)\n",
    "# Precision, recall, f-score from the multi-class support function\n",
    "print(classification_report(y_test_knn, y_pred_knn))\n",
    "print('Accuracy score: ', round(accuracy_score(y_test_knn, y_pred_knn), 2))\n",
    "print('F1 Score: ', round(f1_score(y_test_knn, y_pred_knn), 2))"
   ]
  },
  {
   "cell_type": "code",
   "execution_count": 44,
   "metadata": {},
   "outputs": [
    {
     "data": {
      "image/png": "[encoded data removed]",
      "text/plain": [
       "<Figure size 432x288 with 2 Axes>"
      ]
     },
     "metadata": {},
     "output_type": "display_data"
    }
   ],
   "source": [
    "# Plot confusion matrix\n",
    "plot_confusion_matrix(knn, X_test_knn, y_test_knn,\n",
    "                                 display_labels=['Female', 'Male'],\n",
    "                                 cmap=plt.cm.Blues,\n",
    "                                 normalize='true');\n"
   ]
  },
  {
   "cell_type": "markdown",
   "metadata": {},
   "source": [
    "The LabelBinarizer from sklearn gives us which label corresponds to which boolean. In this case, Female = False and Male = True. The confusion matrix above shows that the model predicts gender better than random guessing (for which accuracy would have been 53% as there are 53% Males). Let's try other classification models to see if we can gain any improvement on the prediction front.\n"
   ]
  },
  {
   "cell_type": "markdown",
   "metadata": {},
   "source": [
    "#### <font color = 'blue'>II.b. Random Forest </font>"
   ]
  },
  {
   "cell_type": "markdown",
   "metadata": {},
   "source": [
    "Lets run a Random Forest algorithm for different number of trees, and plot its out of bag ('oob') error. The number of trees leading to the lowest oob error will then be taken as the best one for this analysis."
   ]
  },
  {
   "cell_type": "code",
   "execution_count": 23,
   "metadata": {},
   "outputs": [],
   "source": [
    "# Suppress warnings about too few trees from the early models\n",
    "import warnings\n",
    "warnings.filterwarnings(\"ignore\", category=UserWarning)\n",
    "warnings.filterwarnings(\"ignore\", category=RuntimeWarning)"
   ]
  },
  {
   "cell_type": "code",
   "execution_count": 24,
   "metadata": {},
   "outputs": [
    {
     "data": {
      "image/png": "[encoded data removed]",
      "text/plain": [
       "<Figure size 432x288 with 1 Axes>"
      ]
     },
     "metadata": {},
     "output_type": "display_data"
    }
   ],
   "source": [
    "# Initialize the random forest estimator\n",
    "# Note that the number of trees is not setup here\n",
    "RF = RandomForestClassifier(oob_score=True, \n",
    "                            random_state=7879, \n",
    "                            warm_start=True,\n",
    "                            n_jobs=-1)\n",
    "\n",
    "oob_list = list()\n",
    "tree_list = [15, 20, 30, 40, 50, 100, 200, 300, 400, 500, 600, 700, 800, 900, 1000]\n",
    "\n",
    "# Iterate through all of the possibilities for \n",
    "# number of trees\n",
    "for n_trees in tree_list:\n",
    "    \n",
    "    # Use this to set the number of trees\n",
    "    RF.set_params(n_estimators=n_trees)\n",
    "\n",
    "    # Fit the model\n",
    "    RF.fit(X_train_rf, y_train_rf)\n",
    "\n",
    "    # Get the oob error\n",
    "    oob_error = 1 - RF.oob_score_\n",
    "    \n",
    "    # Store it\n",
    "    oob_list.append(pd.Series({'n_trees': n_trees, 'oob': oob_error}))\n",
    "\n",
    "rf_oob_df = pd.concat(oob_list, axis=1).T.set_index('n_trees')\n",
    "\n",
    "ax = rf_oob_df.plot(legend=False, marker='o')\n",
    "ax.set(ylabel='out-of-bag error');"
   ]
  },
  {
   "cell_type": "markdown",
   "metadata": {},
   "source": [
    "The best number of trees seems to be 400, let's keep this value for the next part."
   ]
  },
  {
   "cell_type": "code",
   "execution_count": 27,
   "metadata": {},
   "outputs": [
    {
     "name": "stdout",
     "output_type": "stream",
     "text": [
      "              precision    recall  f1-score   support\n",
      "\n",
      "           0       0.64      0.60      0.62       145\n",
      "           1       0.64      0.68      0.66       155\n",
      "\n",
      "    accuracy                           0.64       300\n",
      "   macro avg       0.64      0.64      0.64       300\n",
      "weighted avg       0.64      0.64      0.64       300\n",
      "\n",
      "   accuracy  precision    recall        f1      auc\n",
      "0      0.64   0.644172  0.677419  0.660377  0.63871\n"
     ]
    }
   ],
   "source": [
    "# Random forest with 500 estimators\n",
    "model = RF.set_params(n_estimators=400)\n",
    "y_pred_rf = model.predict(X_test_rf)\n",
    "\n",
    "cr = classification_report(y_test_rf, y_pred_rf)\n",
    "print(cr)\n",
    "\n",
    "score_df = pd.DataFrame({'accuracy': accuracy_score(y_test_rf, y_pred_rf),\n",
    "                         'precision': precision_score(y_test_rf, y_pred_rf),\n",
    "                         'recall': recall_score(y_test_rf, y_pred_rf),\n",
    "                         'f1': f1_score(y_test_rf, y_pred_rf),\n",
    "                         'auc': roc_auc_score(y_test_rf, y_pred_rf)},\n",
    "                         index=pd.Index([0]))\n",
    "\n",
    "print(score_df)"
   ]
  },
  {
   "cell_type": "markdown",
   "metadata": {},
   "source": [
    "Accuracy is better for random forests (0.64) than KNN (0.62)"
   ]
  },
  {
   "cell_type": "code",
   "execution_count": 45,
   "metadata": {},
   "outputs": [
    {
     "data": {
      "image/png": "[encoded data removed]",
      "text/plain": [
       "<Figure size 432x288 with 2 Axes>"
      ]
     },
     "metadata": {},
     "output_type": "display_data"
    }
   ],
   "source": [
    "# Plot confusion matrix\n",
    "plot_confusion_matrix(model, X_test_rf, y_test_rf,\n",
    "                                 display_labels=['Female', 'Male'],\n",
    "                                 cmap=plt.cm.Blues,\n",
    "                                 normalize='true');"
   ]
  },
  {
   "cell_type": "markdown",
   "metadata": {},
   "source": [
    "The normalised confusion matrix shows Random Forest model is better at predicting the 'Female' category than KNN (60% correct predictions of this category, against only 52% for KNN). However it is a tiny bit worse at predicting the 'Male' category, with 68% accurate predictions against 72% for KNN."
   ]
  },
  {
   "cell_type": "code",
   "execution_count": 29,
   "metadata": {},
   "outputs": [
    {
     "data": {
      "image/png": "[encoded data removed]",
      "text/plain": [
       "<Figure size 720x432 with 2 Axes>"
      ]
     },
     "metadata": {},
     "output_type": "display_data"
    }
   ],
   "source": [
    "# Visualise the ROC curve and the precision-recall curve for Random Forests\n",
    "sns.set_context('talk')\n",
    "\n",
    "fig, axList = plt.subplots(ncols=2)\n",
    "fig.set_size_inches(10, 6)\n",
    "\n",
    "# Get the probabilities for each of the two categories\n",
    "y_prob = model.predict_proba(X_test_rf)\n",
    "\n",
    "# Plot the ROC curve\n",
    "ax = axList[0]\n",
    "\n",
    "fpr, tpr, thresholds = roc_curve(y_test_rf, y_prob[:,1])\n",
    "ax.plot(fpr, tpr, color='red')\n",
    "# It is customary to draw a diagonal dotted line in ROC plots.\n",
    "# This is to indicate completely random prediction. Deviation from this\n",
    "# dotted line towards the upper left corner signifies the power of the model.\n",
    "ax.plot([0, 1], [0, 1], ls='--', color='black')\n",
    "ax.set(xlabel='False Positive Rate',\n",
    "       ylabel='True Positive Rate',\n",
    "       xlim=[-.01, 1.01], ylim=[-.01, 1.01],\n",
    "       title='ROC curve')\n",
    "ax.grid(True)\n",
    "\n",
    "# Plot the precision-recall curve\n",
    "ax = axList[1]\n",
    "\n",
    "precision, recall, _ = precision_recall_curve(y_test_rf, y_prob[:,1])\n",
    "ax.plot(recall, precision, color='green')\n",
    "ax.set(xlabel='Recall', ylabel='Precision',\n",
    "       xlim=[-.01, 1.01], ylim=[-.01, 1.01],\n",
    "       title='Precision-Recall curve')\n",
    "ax.grid(True)\n",
    "\n",
    "plt.tight_layout()"
   ]
  },
  {
   "cell_type": "markdown",
   "metadata": {},
   "source": [
    "The ROC curve, or Receiver Operating Characteristic curve, show how good a model is if the curve is really close to the top-left corner. The diagonal dotted line represents random guessing. In this case, the model does a better job than random guessing without being tremendous."
   ]
  },
  {
   "cell_type": "code",
   "execution_count": 30,
   "metadata": {
    "scrolled": true
   },
   "outputs": [
    {
     "data": {
      "text/plain": [
       "array([0.1437534 , 0.05939352, 0.06328773, 0.06707181, 0.16825116,\n",
       "       0.16429782, 0.01797116, 0.02038828, 0.01806367, 0.02070009,\n",
       "       0.0150786 , 0.01604827, 0.01475817, 0.01542034, 0.03264775,\n",
       "       0.06828246, 0.01530344, 0.06427067, 0.01501169])"
      ]
     },
     "execution_count": 30,
     "metadata": {},
     "output_type": "execute_result"
    }
   ],
   "source": [
    "model.feature_importances_"
   ]
  },
  {
   "cell_type": "code",
   "execution_count": 31,
   "metadata": {
    "scrolled": false
   },
   "outputs": [
    {
     "data": {
      "image/png": "[encoded data removed]",
      "text/plain": [
       "<Figure size 720x288 with 1 Axes>"
      ]
     },
     "metadata": {},
     "output_type": "display_data"
    }
   ],
   "source": [
    "feature_cols = X_test_rf.columns\n",
    "feature_imp = pd.Series(model.feature_importances_, index=feature_cols).sort_values(ascending=False)\n",
    "\n",
    "ax = feature_imp.plot(kind='bar', figsize=(10, 4))\n",
    "ax.set(ylabel='Relative Importance');\n",
    "ax.set(ylabel='Feature');"
   ]
  },
  {
   "cell_type": "markdown",
   "metadata": {},
   "source": [
    "Random forest seems to perform a bit better than KNN since accuracy is better (0.64 instead of 0.62). Confusion matrices show Random Forest predicts a bit better the 'Female' output.\n",
    "\n",
    "Examination of the feature importance confirms BasePay and Bonus, alongside Age, are the most important features in predicting Gender - which corroborates the fact that there is a remuneration difference between genders.\n",
    "\n",
    "To a lesser extent, feature importance confirms what we visually spotted looking at the correlation matrix, i.e. the relatively high correlation of Gender with JobTitle_Marketing Associate and JobTitle_Software Engineer. "
   ]
  },
  {
   "cell_type": "markdown",
   "metadata": {},
   "source": [
    "#### <font color = 'blue'>II.c. AdaBoost </font>"
   ]
  },
  {
   "cell_type": "markdown",
   "metadata": {},
   "source": [
    "Now, let's compare those two results with a last model, Adaptive Boosting (AdaBoost), combined with Grid Search CV, to see if we can improve our model even more."
   ]
  },
  {
   "cell_type": "code",
   "execution_count": 64,
   "metadata": {},
   "outputs": [],
   "source": [
    "# Tree_list has been defined when doing hyperparameter tuning for Random Forests above.\n",
    "learning_rates = [1, 0.1, 0.01, 0.001, 0.0001]\n",
    "\n",
    "ABC = AdaBoostClassifier(DecisionTreeClassifier(max_depth=1))\n",
    "\n",
    "param_grid = {'n_estimators': tree_list,\n",
    "              'learning_rate': learning_rates}\n",
    "\n",
    "GV_ABC = GridSearchCV(ABC,\n",
    "                      param_grid=param_grid, \n",
    "                      scoring='accuracy',\n",
    "                      n_jobs=-1)\n",
    "\n",
    "GV_ABC = GV_ABC.fit(X_train_abc, y_train_abc)"
   ]
  },
  {
   "cell_type": "code",
   "execution_count": 65,
   "metadata": {},
   "outputs": [
    {
     "data": {
      "text/plain": [
       "AdaBoostClassifier(base_estimator=DecisionTreeClassifier(max_depth=1),\n",
       "                   learning_rate=1, n_estimators=200)"
      ]
     },
     "execution_count": 65,
     "metadata": {},
     "output_type": "execute_result"
    }
   ],
   "source": [
    "# The best model\n",
    "GV_ABC.best_estimator_"
   ]
  },
  {
   "cell_type": "code",
   "execution_count": 66,
   "metadata": {
    "scrolled": true
   },
   "outputs": [
    {
     "name": "stdout",
     "output_type": "stream",
     "text": [
      "              precision    recall  f1-score   support\n",
      "\n",
      "           0       0.63      0.67      0.65       138\n",
      "           1       0.70      0.67      0.69       162\n",
      "\n",
      "    accuracy                           0.67       300\n",
      "   macro avg       0.67      0.67      0.67       300\n",
      "weighted avg       0.67      0.67      0.67       300\n",
      "\n"
     ]
    }
   ],
   "source": [
    "y_pred_abc = GV_ABC.predict(X_test_abc)\n",
    "print(classification_report(y_pred_abc, y_test_abc))"
   ]
  },
  {
   "cell_type": "markdown",
   "metadata": {},
   "source": [
    "We can see a better accuracy of 0.67, compared with 0.64 for Random Forests.\n"
   ]
  },
  {
   "cell_type": "code",
   "execution_count": 67,
   "metadata": {},
   "outputs": [
    {
     "data": {
      "image/png": "[encoded data removed]",
      "text/plain": [
       "<Figure size 432x288 with 2 Axes>"
      ]
     },
     "metadata": {},
     "output_type": "display_data"
    }
   ],
   "source": [
    "# Plot confusion matrix\n",
    "plot_confusion_matrix(GV_ABC, X_test_abc, y_test_abc,\n",
    "                                 display_labels=['Female', 'Male'],\n",
    "                                 cmap=plt.cm.Blues,\n",
    "                                 normalize='true');"
   ]
  },
  {
   "cell_type": "markdown",
   "metadata": {},
   "source": [
    "The confusion matrix reflects the superiority of AdaBoost compared to Random Forests: it is better at predicting the 'Male' label (70% of true 'Male' are predicted as such vs. 68% for Random Forests), and also better at predicting the 'Female' one (63% compared to 60% for Random Forests)\n"
   ]
  },
  {
   "cell_type": "markdown",
   "metadata": {},
   "source": [
    "### <font color = 'blue'>III. Conclusion </font>\n",
    "##### <font color = 'blue'> III.a. Summary </font>"
   ]
  },
  {
   "cell_type": "markdown",
   "metadata": {},
   "source": [
    "The aim of this project was to find the best model to predict Gender on our data set. \n",
    "1. First, I took a look at K-Nearest Neighbours algorithm, because the aim of this project was not coefficient interpretability which cannot be done with KNN. We found the best number of neighbours to use was 59, and the model gave an accuracy of 62% and an F1 score of 67%.\n",
    "2. Then, I ran a Random Forest model with 400 trees. This led to better accuracy (64%) and a similar F1.\n",
    "3. This random forest model allows us to take a look at feature importance, which confirms the impact of Salary, Bonus and being a Marketing associate or a Software engineer in predicting Gender.\n",
    "4. Finally, I ran AdaBoost with Grid Search CV to further improve accuracy (67%) with, again, a similar F1 to the other 2 models.\n",
    "\n",
    "<b> Given the increase in accuracy we see with AdaBoost, this is the validated model for predicting Gender with this data set.</b>\n",
    "\n",
    "Also as mentioned at the top of this paper, the data set was published cleaned and might not be representative of the population - those prediction models are thus to be taken with caution.\n"
   ]
  },
  {
   "cell_type": "markdown",
   "metadata": {},
   "source": [
    "##### <font color = 'blue'> III.b. Next steps </font>"
   ]
  },
  {
   "cell_type": "markdown",
   "metadata": {},
   "source": [
    "I have chosen to use a train/test split and not cross validation: a natural next step would be to verify those results using cross validation.\n",
    "\n",
    "Moreover I realised after writing this paper that I hadn't transformed the 'Bonus' feature so that it follows a more normal distribution (it is not skewed but seems to show some kurtosis we could potentially reduce). This could potentially further improve the prediction models.\n",
    "\n",
    "Of course, checking if we could achieve similar results on a raw dataset that has not been cleaned beforehand or only slightly could also be interesting."
   ]
  },
  {
   "cell_type": "code",
   "execution_count": null,
   "metadata": {},
   "outputs": [],
   "source": []
  }
 ],
 "metadata": {
  "kernelspec": {
   "display_name": "Python 3",
   "language": "python",
   "name": "python3"
  },
  "language_info": {
   "codemirror_mode": {
    "name": "ipython",
    "version": 3
   },
   "file_extension": ".py",
   "mimetype": "text/x-python",
   "name": "python",
   "nbconvert_exporter": "python",
   "pygments_lexer": "ipython3",
   "version": "3.6.8"
  }
 },
 "nbformat": 4,
 "nbformat_minor": 2
}
